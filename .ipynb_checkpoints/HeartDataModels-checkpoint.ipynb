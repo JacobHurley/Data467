{
 "cells": [
  {
   "cell_type": "code",
   "execution_count": 1,
   "id": "429e3035",
   "metadata": {},
   "outputs": [],
   "source": [
    "#All finalised needed imports\n",
    "import pandas as pd\n",
    "import itertools\n",
    "from sklearn.model_selection import cross_val_score\n",
    "from sklearn import linear_model\n",
    "from sklearn.metrics import mean_squared_error\n",
    "import matplotlib.pyplot as plt\n",
    "import numpy as np\n",
    "import warnings\n",
    "\n",
    "# Suppress warnings\n",
    "warnings.filterwarnings(\"ignore\")"
   ]
  },
  {
   "cell_type": "markdown",
   "id": "514024ec",
   "metadata": {},
   "source": [
    "Import Data and set X to features and Y to target data"
   ]
  },
  {
   "cell_type": "code",
   "execution_count": 2,
   "id": "b04845fa",
   "metadata": {},
   "outputs": [],
   "source": [
    "data = pd.read_csv('heart.csv')\n",
    "data = data[data['Oldpeak'] >= 0]\n",
    "features = ['Age', 'Sex', 'ChestPainType', 'RestingBP', 'Cholesterol', 'FastingBS', 'RestingECG',\n",
    "            'MaxHR','ExerciseAngina','Oldpeak','ST_Slope'] \n",
    "X = data[features]\n",
    "\n",
    "target = 'HeartDisease'\n",
    "Y = data[target]"
   ]
  },
  {
   "cell_type": "markdown",
   "id": "9a338cc7",
   "metadata": {},
   "source": [
    "convert string types to numerical"
   ]
  },
  {
   "cell_type": "code",
   "execution_count": 3,
   "id": "b63bc664",
   "metadata": {},
   "outputs": [],
   "source": [
    "from sklearn import preprocessing\n",
    "le = preprocessing.LabelEncoder() \n",
    "X['Sex'] = le.fit_transform(X['Sex'])\n",
    "X['ChestPainType'] = le.fit_transform(X['ChestPainType'])\n",
    "X['RestingECG'] = le.fit_transform(X['RestingECG'])\n",
    "X['ExerciseAngina'] = le.fit_transform(X['ExerciseAngina'])\n",
    "X['ST_Slope'] = le.fit_transform(X['ST_Slope'])"
   ]
  },
  {
   "cell_type": "markdown",
   "id": "834c6d19",
   "metadata": {},
   "source": [
    "Create training and testing variables"
   ]
  },
  {
   "cell_type": "code",
   "execution_count": 4,
   "id": "a141a976",
   "metadata": {},
   "outputs": [],
   "source": [
    "from sklearn.model_selection import train_test_split\n",
    "random_state=0\n",
    "test_size=0.25\n",
    "X_train, X_test, Y_train, Y_test = train_test_split(X,Y, test_size = test_size, random_state = random_state)"
   ]
  },
  {
   "cell_type": "code",
   "execution_count": 5,
   "id": "4f96c30c",
   "metadata": {},
   "outputs": [
    {
     "data": {
      "text/html": [
       "<div>\n",
       "<style scoped>\n",
       "    .dataframe tbody tr th:only-of-type {\n",
       "        vertical-align: middle;\n",
       "    }\n",
       "\n",
       "    .dataframe tbody tr th {\n",
       "        vertical-align: top;\n",
       "    }\n",
       "\n",
       "    .dataframe thead th {\n",
       "        text-align: right;\n",
       "    }\n",
       "</style>\n",
       "<table border=\"1\" class=\"dataframe\">\n",
       "  <thead>\n",
       "    <tr style=\"text-align: right;\">\n",
       "      <th></th>\n",
       "      <th>Age</th>\n",
       "      <th>Sex</th>\n",
       "      <th>ChestPainType</th>\n",
       "      <th>RestingBP</th>\n",
       "      <th>Cholesterol</th>\n",
       "      <th>FastingBS</th>\n",
       "      <th>RestingECG</th>\n",
       "      <th>MaxHR</th>\n",
       "      <th>ExerciseAngina</th>\n",
       "      <th>Oldpeak</th>\n",
       "      <th>ST_Slope</th>\n",
       "    </tr>\n",
       "  </thead>\n",
       "  <tbody>\n",
       "    <tr>\n",
       "      <th>count</th>\n",
       "      <td>678.000000</td>\n",
       "      <td>678.000000</td>\n",
       "      <td>678.000000</td>\n",
       "      <td>678.000000</td>\n",
       "      <td>678.000000</td>\n",
       "      <td>678.000000</td>\n",
       "      <td>678.000000</td>\n",
       "      <td>678.000000</td>\n",
       "      <td>678.000000</td>\n",
       "      <td>678.000000</td>\n",
       "      <td>678.000000</td>\n",
       "    </tr>\n",
       "    <tr>\n",
       "      <th>mean</th>\n",
       "      <td>53.519174</td>\n",
       "      <td>0.794985</td>\n",
       "      <td>0.783186</td>\n",
       "      <td>132.637168</td>\n",
       "      <td>204.986726</td>\n",
       "      <td>0.222714</td>\n",
       "      <td>0.977876</td>\n",
       "      <td>138.029499</td>\n",
       "      <td>0.411504</td>\n",
       "      <td>0.909145</td>\n",
       "      <td>1.370206</td>\n",
       "    </tr>\n",
       "    <tr>\n",
       "      <th>std</th>\n",
       "      <td>9.345909</td>\n",
       "      <td>0.404010</td>\n",
       "      <td>0.962463</td>\n",
       "      <td>18.385449</td>\n",
       "      <td>104.890270</td>\n",
       "      <td>0.416375</td>\n",
       "      <td>0.639271</td>\n",
       "      <td>25.465052</td>\n",
       "      <td>0.492470</td>\n",
       "      <td>1.034803</td>\n",
       "      <td>0.597976</td>\n",
       "    </tr>\n",
       "    <tr>\n",
       "      <th>min</th>\n",
       "      <td>28.000000</td>\n",
       "      <td>0.000000</td>\n",
       "      <td>0.000000</td>\n",
       "      <td>0.000000</td>\n",
       "      <td>0.000000</td>\n",
       "      <td>0.000000</td>\n",
       "      <td>0.000000</td>\n",
       "      <td>60.000000</td>\n",
       "      <td>0.000000</td>\n",
       "      <td>0.000000</td>\n",
       "      <td>0.000000</td>\n",
       "    </tr>\n",
       "    <tr>\n",
       "      <th>25%</th>\n",
       "      <td>47.250000</td>\n",
       "      <td>1.000000</td>\n",
       "      <td>0.000000</td>\n",
       "      <td>120.000000</td>\n",
       "      <td>182.000000</td>\n",
       "      <td>0.000000</td>\n",
       "      <td>1.000000</td>\n",
       "      <td>120.000000</td>\n",
       "      <td>0.000000</td>\n",
       "      <td>0.000000</td>\n",
       "      <td>1.000000</td>\n",
       "    </tr>\n",
       "    <tr>\n",
       "      <th>50%</th>\n",
       "      <td>54.000000</td>\n",
       "      <td>1.000000</td>\n",
       "      <td>0.000000</td>\n",
       "      <td>130.000000</td>\n",
       "      <td>224.000000</td>\n",
       "      <td>0.000000</td>\n",
       "      <td>1.000000</td>\n",
       "      <td>140.000000</td>\n",
       "      <td>0.000000</td>\n",
       "      <td>0.600000</td>\n",
       "      <td>1.000000</td>\n",
       "    </tr>\n",
       "    <tr>\n",
       "      <th>75%</th>\n",
       "      <td>60.000000</td>\n",
       "      <td>1.000000</td>\n",
       "      <td>2.000000</td>\n",
       "      <td>140.000000</td>\n",
       "      <td>268.000000</td>\n",
       "      <td>0.000000</td>\n",
       "      <td>1.000000</td>\n",
       "      <td>157.750000</td>\n",
       "      <td>1.000000</td>\n",
       "      <td>1.500000</td>\n",
       "      <td>2.000000</td>\n",
       "    </tr>\n",
       "    <tr>\n",
       "      <th>max</th>\n",
       "      <td>77.000000</td>\n",
       "      <td>1.000000</td>\n",
       "      <td>3.000000</td>\n",
       "      <td>200.000000</td>\n",
       "      <td>603.000000</td>\n",
       "      <td>1.000000</td>\n",
       "      <td>2.000000</td>\n",
       "      <td>202.000000</td>\n",
       "      <td>1.000000</td>\n",
       "      <td>5.600000</td>\n",
       "      <td>2.000000</td>\n",
       "    </tr>\n",
       "  </tbody>\n",
       "</table>\n",
       "</div>"
      ],
      "text/plain": [
       "              Age         Sex  ChestPainType   RestingBP  Cholesterol  \\\n",
       "count  678.000000  678.000000     678.000000  678.000000   678.000000   \n",
       "mean    53.519174    0.794985       0.783186  132.637168   204.986726   \n",
       "std      9.345909    0.404010       0.962463   18.385449   104.890270   \n",
       "min     28.000000    0.000000       0.000000    0.000000     0.000000   \n",
       "25%     47.250000    1.000000       0.000000  120.000000   182.000000   \n",
       "50%     54.000000    1.000000       0.000000  130.000000   224.000000   \n",
       "75%     60.000000    1.000000       2.000000  140.000000   268.000000   \n",
       "max     77.000000    1.000000       3.000000  200.000000   603.000000   \n",
       "\n",
       "        FastingBS  RestingECG       MaxHR  ExerciseAngina     Oldpeak  \\\n",
       "count  678.000000  678.000000  678.000000      678.000000  678.000000   \n",
       "mean     0.222714    0.977876  138.029499        0.411504    0.909145   \n",
       "std      0.416375    0.639271   25.465052        0.492470    1.034803   \n",
       "min      0.000000    0.000000   60.000000        0.000000    0.000000   \n",
       "25%      0.000000    1.000000  120.000000        0.000000    0.000000   \n",
       "50%      0.000000    1.000000  140.000000        0.000000    0.600000   \n",
       "75%      0.000000    1.000000  157.750000        1.000000    1.500000   \n",
       "max      1.000000    2.000000  202.000000        1.000000    5.600000   \n",
       "\n",
       "         ST_Slope  \n",
       "count  678.000000  \n",
       "mean     1.370206  \n",
       "std      0.597976  \n",
       "min      0.000000  \n",
       "25%      1.000000  \n",
       "50%      1.000000  \n",
       "75%      2.000000  \n",
       "max      2.000000  "
      ]
     },
     "execution_count": 5,
     "metadata": {},
     "output_type": "execute_result"
    }
   ],
   "source": [
    "X_train.describe()"
   ]
  },
  {
   "cell_type": "code",
   "execution_count": 6,
   "id": "23a2ff10",
   "metadata": {},
   "outputs": [
    {
     "data": {
      "text/html": [
       "<div>\n",
       "<style scoped>\n",
       "    .dataframe tbody tr th:only-of-type {\n",
       "        vertical-align: middle;\n",
       "    }\n",
       "\n",
       "    .dataframe tbody tr th {\n",
       "        vertical-align: top;\n",
       "    }\n",
       "\n",
       "    .dataframe thead th {\n",
       "        text-align: right;\n",
       "    }\n",
       "</style>\n",
       "<table border=\"1\" class=\"dataframe\">\n",
       "  <thead>\n",
       "    <tr style=\"text-align: right;\">\n",
       "      <th></th>\n",
       "      <th>Age</th>\n",
       "      <th>Sex</th>\n",
       "      <th>ChestPainType</th>\n",
       "      <th>RestingBP</th>\n",
       "      <th>Cholesterol</th>\n",
       "      <th>FastingBS</th>\n",
       "      <th>RestingECG</th>\n",
       "      <th>MaxHR</th>\n",
       "      <th>ExerciseAngina</th>\n",
       "      <th>Oldpeak</th>\n",
       "      <th>ST_Slope</th>\n",
       "    </tr>\n",
       "  </thead>\n",
       "  <tbody>\n",
       "    <tr>\n",
       "      <th>count</th>\n",
       "      <td>227.000000</td>\n",
       "      <td>227.000000</td>\n",
       "      <td>227.000000</td>\n",
       "      <td>227.000000</td>\n",
       "      <td>227.000000</td>\n",
       "      <td>227.000000</td>\n",
       "      <td>227.000000</td>\n",
       "      <td>227.000000</td>\n",
       "      <td>227.000000</td>\n",
       "      <td>227.000000</td>\n",
       "      <td>227.000000</td>\n",
       "    </tr>\n",
       "    <tr>\n",
       "      <th>mean</th>\n",
       "      <td>53.563877</td>\n",
       "      <td>0.762115</td>\n",
       "      <td>0.762115</td>\n",
       "      <td>132.726872</td>\n",
       "      <td>190.995595</td>\n",
       "      <td>0.242291</td>\n",
       "      <td>1.004405</td>\n",
       "      <td>133.881057</td>\n",
       "      <td>0.392070</td>\n",
       "      <td>0.929515</td>\n",
       "      <td>1.339207</td>\n",
       "    </tr>\n",
       "    <tr>\n",
       "      <th>std</th>\n",
       "      <td>9.684360</td>\n",
       "      <td>0.426730</td>\n",
       "      <td>0.929255</td>\n",
       "      <td>18.791010</td>\n",
       "      <td>115.367995</td>\n",
       "      <td>0.429416</td>\n",
       "      <td>0.606001</td>\n",
       "      <td>24.718753</td>\n",
       "      <td>0.489291</td>\n",
       "      <td>1.084591</td>\n",
       "      <td>0.627120</td>\n",
       "    </tr>\n",
       "    <tr>\n",
       "      <th>min</th>\n",
       "      <td>30.000000</td>\n",
       "      <td>0.000000</td>\n",
       "      <td>0.000000</td>\n",
       "      <td>95.000000</td>\n",
       "      <td>0.000000</td>\n",
       "      <td>0.000000</td>\n",
       "      <td>0.000000</td>\n",
       "      <td>70.000000</td>\n",
       "      <td>0.000000</td>\n",
       "      <td>0.000000</td>\n",
       "      <td>0.000000</td>\n",
       "    </tr>\n",
       "    <tr>\n",
       "      <th>25%</th>\n",
       "      <td>47.000000</td>\n",
       "      <td>1.000000</td>\n",
       "      <td>0.000000</td>\n",
       "      <td>120.000000</td>\n",
       "      <td>158.500000</td>\n",
       "      <td>0.000000</td>\n",
       "      <td>1.000000</td>\n",
       "      <td>118.000000</td>\n",
       "      <td>0.000000</td>\n",
       "      <td>0.000000</td>\n",
       "      <td>1.000000</td>\n",
       "    </tr>\n",
       "    <tr>\n",
       "      <th>50%</th>\n",
       "      <td>54.000000</td>\n",
       "      <td>1.000000</td>\n",
       "      <td>0.000000</td>\n",
       "      <td>130.000000</td>\n",
       "      <td>220.000000</td>\n",
       "      <td>0.000000</td>\n",
       "      <td>1.000000</td>\n",
       "      <td>131.000000</td>\n",
       "      <td>0.000000</td>\n",
       "      <td>0.700000</td>\n",
       "      <td>1.000000</td>\n",
       "    </tr>\n",
       "    <tr>\n",
       "      <th>75%</th>\n",
       "      <td>61.000000</td>\n",
       "      <td>1.000000</td>\n",
       "      <td>2.000000</td>\n",
       "      <td>143.000000</td>\n",
       "      <td>264.000000</td>\n",
       "      <td>0.000000</td>\n",
       "      <td>1.000000</td>\n",
       "      <td>151.000000</td>\n",
       "      <td>1.000000</td>\n",
       "      <td>1.500000</td>\n",
       "      <td>2.000000</td>\n",
       "    </tr>\n",
       "    <tr>\n",
       "      <th>max</th>\n",
       "      <td>75.000000</td>\n",
       "      <td>1.000000</td>\n",
       "      <td>3.000000</td>\n",
       "      <td>200.000000</td>\n",
       "      <td>564.000000</td>\n",
       "      <td>1.000000</td>\n",
       "      <td>2.000000</td>\n",
       "      <td>194.000000</td>\n",
       "      <td>1.000000</td>\n",
       "      <td>6.200000</td>\n",
       "      <td>2.000000</td>\n",
       "    </tr>\n",
       "  </tbody>\n",
       "</table>\n",
       "</div>"
      ],
      "text/plain": [
       "              Age         Sex  ChestPainType   RestingBP  Cholesterol  \\\n",
       "count  227.000000  227.000000     227.000000  227.000000   227.000000   \n",
       "mean    53.563877    0.762115       0.762115  132.726872   190.995595   \n",
       "std      9.684360    0.426730       0.929255   18.791010   115.367995   \n",
       "min     30.000000    0.000000       0.000000   95.000000     0.000000   \n",
       "25%     47.000000    1.000000       0.000000  120.000000   158.500000   \n",
       "50%     54.000000    1.000000       0.000000  130.000000   220.000000   \n",
       "75%     61.000000    1.000000       2.000000  143.000000   264.000000   \n",
       "max     75.000000    1.000000       3.000000  200.000000   564.000000   \n",
       "\n",
       "        FastingBS  RestingECG       MaxHR  ExerciseAngina     Oldpeak  \\\n",
       "count  227.000000  227.000000  227.000000      227.000000  227.000000   \n",
       "mean     0.242291    1.004405  133.881057        0.392070    0.929515   \n",
       "std      0.429416    0.606001   24.718753        0.489291    1.084591   \n",
       "min      0.000000    0.000000   70.000000        0.000000    0.000000   \n",
       "25%      0.000000    1.000000  118.000000        0.000000    0.000000   \n",
       "50%      0.000000    1.000000  131.000000        0.000000    0.700000   \n",
       "75%      0.000000    1.000000  151.000000        1.000000    1.500000   \n",
       "max      1.000000    2.000000  194.000000        1.000000    6.200000   \n",
       "\n",
       "         ST_Slope  \n",
       "count  227.000000  \n",
       "mean     1.339207  \n",
       "std      0.627120  \n",
       "min      0.000000  \n",
       "25%      1.000000  \n",
       "50%      1.000000  \n",
       "75%      2.000000  \n",
       "max      2.000000  "
      ]
     },
     "execution_count": 6,
     "metadata": {},
     "output_type": "execute_result"
    }
   ],
   "source": [
    "X_test.describe()"
   ]
  },
  {
   "cell_type": "markdown",
   "id": "cafe55b6",
   "metadata": {},
   "source": [
    "Standardize the variables"
   ]
  },
  {
   "cell_type": "code",
   "execution_count": 7,
   "id": "bcaab817",
   "metadata": {},
   "outputs": [],
   "source": [
    "#from sklearn.preprocessing import StandardScaler\n",
    "#scale = StandardScaler()\n",
    "#scale.fit(X)\n",
    "#X_train = scale.transform(X_train)\n",
    "#X_test = scale.transform(X_test)"
   ]
  },
  {
   "cell_type": "markdown",
   "id": "2ceb2180",
   "metadata": {},
   "source": [
    "Check Model Assumptions that all features in the data are independant of eachother"
   ]
  },
  {
   "cell_type": "code",
   "execution_count": 8,
   "id": "8511f745",
   "metadata": {},
   "outputs": [],
   "source": [
    "#Some intialisations\n",
    "\n",
    "columns = features +[target]\n",
    "nColumns = len(columns)\n",
    "\n",
    "result = pd.DataFrame(np.zeros((nColumns, nColumns)), columns=columns)\n",
    "\n",
    "train = X_train.copy()\n",
    "train[target]= Y_train"
   ]
  },
  {
   "cell_type": "code",
   "execution_count": 9,
   "id": "e88d273b",
   "metadata": {},
   "outputs": [],
   "source": [
    "from scipy.stats.stats import pearsonr\n",
    "# Apply Pearson correlation on each pair of features.\n",
    "for col_a in range(nColumns):\n",
    "    for col_b in range(nColumns):\n",
    "        result.iloc[[col_a], [col_b]] = round(pearsonr(train.loc[:, columns[col_a]], train.loc[:,  columns[col_b]])[0],2)"
   ]
  },
  {
   "cell_type": "code",
   "execution_count": 10,
   "id": "d3ff7d37",
   "metadata": {},
   "outputs": [
    {
     "data": {
      "image/png": "[encoded data removed]",
      "text/plain": [
       "<Figure size 864x864 with 1 Axes>"
      ]
     },
     "metadata": {
      "needs_background": "light"
     },
     "output_type": "display_data"
    }
   ],
   "source": [
    "fig, ax = plt.subplots(figsize=(12,12))\n",
    "im = ax.imshow(result)\n",
    "\n",
    "#,yticklabels=columns, vmin=-1, vmax=1, annot=True, fmt='.2f', linewidths=.2)\n",
    "\n",
    "# We want to show all ticks...\n",
    "ax.set_xticks(np.arange(nColumns))\n",
    "ax.set_yticks(np.arange(nColumns))\n",
    "\n",
    "# ... and label them with the respective list entries\n",
    "ax.set_xticklabels(columns)\n",
    "ax.set_yticklabels(columns)\n",
    "\n",
    "# Rotate the tick labels and set their alignment.\n",
    "plt.setp(ax.get_xticklabels(), rotation=45, ha=\"right\",\n",
    "         rotation_mode=\"anchor\")\n",
    "\n",
    "# Loop over data dimensions and create text annotations.\n",
    "for i in range(nColumns):\n",
    "    for j in range(nColumns):\n",
    "        text = ax.text(j, i, result.iloc[i, j],ha=\"center\", va=\"center\", color=\"w\")\n",
    "                   \n",
    "ax.set_title('PCC - Pearson correlation coefficient')\n",
    "plt.show()"
   ]
  },
  {
   "cell_type": "code",
   "execution_count": 11,
   "id": "78d2ca08",
   "metadata": {},
   "outputs": [],
   "source": [
    "def findsubsets(S,k):\n",
    "    return set(itertools.combinations(S, k))"
   ]
  },
  {
   "cell_type": "code",
   "execution_count": 12,
   "id": "4d2d6b30",
   "metadata": {},
   "outputs": [],
   "source": [
    "def printFeatureWeights(f, w):\n",
    "  for idx in range(len(f)):\n",
    "    print('%s : %f' % (f[idx], w[idx]))"
   ]
  },
  {
   "cell_type": "code",
   "execution_count": 15,
   "id": "dad819ae",
   "metadata": {},
   "outputs": [],
   "source": [
    "def printFeatureWeights(f, w):\n",
    "  for idx in range(len(f)):\n",
    "    print('%s : %f' % (f[idx], w[idx]))"
   ]
  },
  {
   "cell_type": "code",
   "execution_count": 14,
   "id": "dac2e1e4",
   "metadata": {},
   "outputs": [
    {
     "name": "stdout",
     "output_type": "stream",
     "text": [
      "('Sex', 'ChestPainType', 'Cholesterol', 'FastingBS', 'RestingECG', 'ExerciseAngina', 'Oldpeak', 'ST_Slope')\n",
      "HighestAccuracy: 0.8540386303775243\n"
     ]
    },
    {
     "data": {
      "image/png": "[encoded data removed]",
      "text/plain": [
       "<Figure size 432x288 with 1 Axes>"
      ]
     },
     "metadata": {
      "needs_background": "light"
     },
     "output_type": "display_data"
    },
    {
     "name": "stdout",
     "output_type": "stream",
     "text": [
      "0.8590308370044053\n",
      "Sex : 1.392143\n",
      "ChestPainType : -0.742250\n",
      "Cholesterol : -0.002202\n",
      "FastingBS : 0.806763\n",
      "RestingECG : 0.020299\n",
      "ExerciseAngina : 1.004291\n",
      "Oldpeak : 0.473784\n",
      "ST_Slope : -1.823016\n"
     ]
    }
   ],
   "source": [
    "highestScore = 0\n",
    "subSetMax = set()\n",
    "scoresList = []\n",
    "subsetSize = []\n",
    "logReg = linear_model.LogisticRegression()\n",
    "for j in range(1,12):\n",
    "    subsets = findsubsets(features, j)\n",
    "    for i in subsets:\n",
    "        score = cross_val_score(logReg, X_train[list(i)], Y_train, cv = 10)\n",
    "        scoresList.append(np.mean(score))\n",
    "        subsetSize.append(j)\n",
    "        if(np.mean(score) > highestScore):\n",
    "            highestScore = np.mean(score)\n",
    "            subSetMax = i\n",
    "print(subSetMax)\n",
    "print(\"HighestAccuracy: \" + str(highestScore))\n",
    "plt.scatter(subsetSize, scoresList)\n",
    "plt.show()\n",
    "logReg.fit(X_train[list(subSetMax)],Y_train)\n",
    "print(logReg.score(X_test[list(subSetMax)],Y_test))\n",
    "printFeatureWeights(list(subSetMax), logReg.coef_[0])"
   ]
  },
  {
   "cell_type": "markdown",
   "id": "8134c0a1",
   "metadata": {},
   "source": [
    "MAP estimator using Normal distribution for bias term"
   ]
  },
  {
   "cell_type": "code",
   "execution_count": 13,
   "id": "b34a8c92",
   "metadata": {},
   "outputs": [
    {
     "name": "stdout",
     "output_type": "stream",
     "text": [
      "Mean cross val score: 0.8421861281826162\n"
     ]
    },
    {
     "data": {
      "text/plain": [
       "0.8678414096916299"
      ]
     },
     "execution_count": 13,
     "metadata": {},
     "output_type": "execute_result"
    }
   ],
   "source": [
    "from sklearn.naive_bayes import GaussianNB\n",
    "nb = GaussianNB()\n",
    "nb.fit(X_train,Y_train)\n",
    "temp = cross_val_score(nb,X_train,Y_train,cv=10)\n",
    "print(\"Mean cross val score: \" + str(np.mean(temp)))\n",
    "Y_pred = nb.predict(X_test)\n",
    "\n",
    "# Evaluate Accuracy\n",
    "nb.score(X_test, Y_test)\n"
   ]
  },
  {
   "cell_type": "code",
   "execution_count": 14,
   "id": "41170611",
   "metadata": {},
   "outputs": [
    {
     "name": "stdout",
     "output_type": "stream",
     "text": [
      "Mean cross val score: 0.8437225636523266\n",
      "0.8634361233480177\n",
      "[ 0.01612865  1.4164211  -0.71633285  0.00833438 -0.00227932  0.76012993\n",
      " -0.02646478 -0.00380059  1.01798532  0.45706621 -1.70332645]\n"
     ]
    }
   ],
   "source": [
    "from sklearn.preprocessing import StandardScaler\n",
    "logReg = linear_model.LogisticRegression()\n",
    "temp = cross_val_score(logReg,X_train,Y_train,cv=10)\n",
    "print(\"Mean cross val score: \" + str(np.mean(temp)))\n",
    "logReg.fit(X_train,Y_train)\n",
    "Y_pred = logReg.predict(X_test)\n",
    "print(logReg.score(X_test,Y_test))\n",
    "printFeatureWeights()\n",
    "print(logReg.coef_[0])\n",
    "#elasticnet gives sub 80% accuracy"
   ]
  },
  {
   "cell_type": "code",
   "execution_count": null,
   "id": "cdbeadd8",
   "metadata": {},
   "outputs": [],
   "source": [
    "from sklearn.tree import DecisionTreeClassifier\n",
    "dt = DecisionTreeClassifier()\n",
    "dt.fit(X_train,Y_train)\n",
    "Y_pred = dt.predict(X_test)\n",
    "dt.score(X_test,Y_test)"
   ]
  },
  {
   "cell_type": "code",
   "execution_count": null,
   "id": "9f2943d8",
   "metadata": {},
   "outputs": [],
   "source": [
    "from sklearn.neural_network import MLPClassifier\n",
    "testScore = []\n",
    "for i in range(1,101):\n",
    "    neuralNet = MLPClassifier(hidden_layer_sizes = (i,), activation = 'logistic')\n",
    "    neuralNet.fit(X_train,Y_train)\n",
    "    testScore.append(np.mean(cross_val_score(neuralNet,X_train,Y_train,cv=10)))\n",
    "print(np.max(testScore))\n",
    "best = 0\n",
    "for i in range(len(testScore)):\n",
    "    if testScore[i] == np.max(testScore):\n",
    "        best = i\n",
    "        print(i)\n",
    "        \n",
    "\n",
    "plt.plot(np.arange(start=1, stop = 101, step = 1), testScore)\n",
    "plt.show()\n",
    "neuralNet = MLPClassifier(hidden_layer_sizes = (best,), activation = 'logistic')\n",
    "neuralNet.fit(X_train,Y_train)\n",
    "Y_pred = neuralNet.predict(X_test)\n",
    "print(neuralNet.score(X_test,Y_test))\n"
   ]
  },
  {
   "cell_type": "code",
   "execution_count": null,
   "id": "7be7c5a0",
   "metadata": {},
   "outputs": [],
   "source": [
    "from sklearn.neural_network import MLPClassifier\n",
    "testScore = []\n",
    "for i in range(1,51):\n",
    "    neuralNet = MLPClassifier(hidden_layer_sizes = (i,), activation = 'relu')\n",
    "    neuralNet.fit(X_train,Y_train)\n",
    "    testScore.append(np.mean(cross_val_score(neuralNet,X_train,Y_train,cv=10)))\n",
    "print(np.max(testScore))\n",
    "best = 0\n",
    "for i in range(len(testScore)):\n",
    "    if testScore[i] == np.max(testScore):\n",
    "        best = i\n",
    "        print(i)\n",
    "        \n",
    "\n",
    "plt.plot(np.arange(start=1, stop = 51, step = 1), testScore)\n",
    "plt.show()\n",
    "neuralNet = MLPClassifier(hidden_layer_sizes = (best,), activation = 'relu')\n",
    "neuralNet.fit(X_train,Y_train)\n",
    "Y_pred = neuralNet.predict(X_test)\n",
    "print(neuralNet.score(X_test,Y_test))"
   ]
  },
  {
   "cell_type": "code",
   "execution_count": null,
   "id": "9f07752d",
   "metadata": {},
   "outputs": [],
   "source": [
    "# doesnt work because negative values in data?\n",
    "#from sklearn.naive_bayes import CategoricalNB\n",
    "#categorical = CategoricalNB()\n",
    "#categorical.fit(X_train,Y_train)\n",
    "#Y_pred = categorical.predict(X_test)\n",
    "#categorical.score(X_test,Y_test)"
   ]
  },
  {
   "cell_type": "code",
   "execution_count": null,
   "id": "b37d7d64",
   "metadata": {},
   "outputs": [],
   "source": []
  }
 ],
 "metadata": {
  "kernelspec": {
   "display_name": "Python 3",
   "language": "python",
   "name": "python3"
  },
  "language_info": {
   "codemirror_mode": {
    "name": "ipython",
    "version": 3
   },
   "file_extension": ".py",
   "mimetype": "text/x-python",
   "name": "python",
   "nbconvert_exporter": "python",
   "pygments_lexer": "ipython3",
   "version": "3.8.8"
  }
 },
 "nbformat": 4,
 "nbformat_minor": 5
}
